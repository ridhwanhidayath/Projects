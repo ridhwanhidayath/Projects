{
 "cells": [
  {
   "cell_type": "code",
   "execution_count": 1,
   "id": "8854e209-a46d-4c28-89bd-5a3212ea057e",
   "metadata": {},
   "outputs": [],
   "source": [
    "import random\n",
    "board = [\"-\", \"-\", \"-\",\n",
    "         \"-\", \"-\", \"-\",\n",
    "         \"-\", \"-\", \"-\"]\n",
    "\n",
    "currentPlayer = \"X\"\n",
    "winner = None\n",
    "gameRunning = True"
   ]
  },
  {
   "cell_type": "code",
   "execution_count": 3,
   "id": "88cbe995-f376-4b34-b09d-d4e7e871b005",
   "metadata": {},
   "outputs": [],
   "source": [
    "#Create a game board\n",
    "def printBoard(board):\n",
    "    print(board[0] + \" | \" + board[1] + \" | \" + board[2])\n",
    "    print(board[3] + \" | \" + board[4] + \" | \" + board[5])\n",
    "    print(board[6] + \" | \" + board[7] + \" | \" + board[8])"
   ]
  },
  {
   "cell_type": "code",
   "execution_count": 5,
   "id": "90776552-cd68-495a-adcb-20161d21f92e",
   "metadata": {},
   "outputs": [],
   "source": [
    "#Player input\n",
    "def playerInput(board):\n",
    "    inp = int(input(\"Enter a number btw 1 to 9:\"))\n",
    "    if inp >= 1 and inp <= 9 and board[inp-1] == \"-\":\n",
    "        board[inp-1] = currentPlayer\n",
    "    else:\n",
    "        print(\"Slot already taken by a player\")"
   ]
  },
  {
   "cell_type": "code",
   "execution_count": 7,
   "id": "9b197f0d-fd42-4f36-9012-0db337e28eab",
   "metadata": {},
   "outputs": [],
   "source": [
    "#Check for win and tie\n",
    "def checkHorizontal(board):\n",
    "    global winner\n",
    "    if (board[0] == board[1] == board[2] and board[0]!= \"-\"):\n",
    "        winner = board[0]\n",
    "        return True\n",
    "    elif(board[3] == board[4] == board[5] and board[3]!= \"-\"):\n",
    "        winner = board[3]\n",
    "        return True\n",
    "    elif(board[6] == board[7] == board[8] and board[6]!= \"-\"):\n",
    "        winner = board[6]\n",
    "        return True\n",
    "\n",
    "def chekRow(board):\n",
    "    global winner\n",
    "    if (board[0] == board[3] == board[6] and board[0]!= \"-\"):\n",
    "        winner = board[0]\n",
    "        return True\n",
    "    elif(board[1] == board[4] == board[7] and board[1]!= \"-\"):\n",
    "        winner = board[1]\n",
    "        return True\n",
    "    elif(board[2] == board[5] == board[8] and board[2]!= \"-\"):\n",
    "        winner = board[2]\n",
    "        return True\n",
    "\n",
    "def checkDiag(board):\n",
    "    global winner\n",
    "    if (board[0] == board[4] == board[8] and board[0]!= \"-\"):\n",
    "        winner = board[0]\n",
    "        return True\n",
    "    elif(board[2] == board[4] == board[6] and board[2]!= \"-\"):\n",
    "        winner = board[2]\n",
    "        return True\n",
    "\n",
    "def checkTie(board):\n",
    "    global gameRunning\n",
    "    if \"-\" not in board:\n",
    "        printBoard(board)\n",
    "        print(\"Tie!\")\n",
    "        gameRunning = False\n",
    "\n",
    "def checkWin():\n",
    "    if checkDiag(board) or checkHorizontal(board) or chekRow(board):\n",
    "        print(f\"The winner is {winner}\")"
   ]
  },
  {
   "cell_type": "code",
   "execution_count": 9,
   "id": "2cba0faa-f186-4f27-a80f-650c8dd3a15b",
   "metadata": {},
   "outputs": [],
   "source": [
    "#switch the player\n",
    "def switchPlayer():\n",
    "    global currentPlayer\n",
    "    if currentPlayer == \"X\":\n",
    "        currentPlayer = \"O\"\n",
    "    else:\n",
    "        currentPlayer = \"X\""
   ]
  },
  {
   "cell_type": "code",
   "execution_count": 11,
   "id": "2f7bb81b-bf7c-4d91-aec5-58462a375fd4",
   "metadata": {},
   "outputs": [],
   "source": [
    "#computer\n",
    "def computer(board):\n",
    "    while currentPlayer == \"O\":\n",
    "        position = random.randint(0,8)\n",
    "        if board[position] == \"-\":\n",
    "            board[position] = \"O\"\n",
    "            switchPlayer()"
   ]
  },
  {
   "cell_type": "code",
   "execution_count": 13,
   "id": "9fe84eee-e03c-4cce-b7bb-f7bd19b1bb00",
   "metadata": {},
   "outputs": [],
   "source": [
    "#check for win or tie"
   ]
  },
  {
   "cell_type": "code",
   "execution_count": 15,
   "id": "7e5f09be-6ecf-4a12-9fdf-658c68d95a65",
   "metadata": {},
   "outputs": [
    {
     "name": "stdout",
     "output_type": "stream",
     "text": [
      "- | - | -\n",
      "- | - | -\n",
      "- | - | -\n"
     ]
    },
    {
     "name": "stdin",
     "output_type": "stream",
     "text": [
      "Enter a number btw 1 to 9: 1\n"
     ]
    },
    {
     "name": "stdout",
     "output_type": "stream",
     "text": [
      "X | - | -\n",
      "- | - | -\n",
      "- | O | -\n"
     ]
    },
    {
     "name": "stdin",
     "output_type": "stream",
     "text": [
      "Enter a number btw 1 to 9: 2\n"
     ]
    },
    {
     "name": "stdout",
     "output_type": "stream",
     "text": [
      "X | X | O\n",
      "- | - | -\n",
      "- | O | -\n"
     ]
    },
    {
     "name": "stdin",
     "output_type": "stream",
     "text": [
      "Enter a number btw 1 to 9: 5\n"
     ]
    },
    {
     "name": "stdout",
     "output_type": "stream",
     "text": [
      "X | X | O\n",
      "O | X | -\n",
      "- | O | -\n"
     ]
    },
    {
     "name": "stdin",
     "output_type": "stream",
     "text": [
      "Enter a number btw 1 to 9: 6\n"
     ]
    },
    {
     "name": "stdout",
     "output_type": "stream",
     "text": [
      "X | X | O\n",
      "O | X | X\n",
      "O | O | -\n"
     ]
    },
    {
     "name": "stdin",
     "output_type": "stream",
     "text": [
      "Enter a number btw 1 to 9: 3\n"
     ]
    },
    {
     "name": "stdout",
     "output_type": "stream",
     "text": [
      "Slot already taken by a player\n",
      "The winner is O\n",
      "X | X | O\n",
      "O | X | X\n",
      "O | O | O\n",
      "Tie!\n"
     ]
    }
   ],
   "source": [
    "while gameRunning:\n",
    "    printBoard(board)\n",
    "    playerInput(board)\n",
    "    checkWin()\n",
    "    checkTie(board)\n",
    "    switchPlayer()\n",
    "    computer(board)\n",
    "    checkWin()\n",
    "    checkTie(board)"
   ]
  },
  {
   "cell_type": "code",
   "execution_count": null,
   "id": "88010a29-44ba-483d-aecd-7debf25b7cdb",
   "metadata": {},
   "outputs": [],
   "source": []
  }
 ],
 "metadata": {
  "kernelspec": {
   "display_name": "Python 3 (ipykernel)",
   "language": "python",
   "name": "python3"
  },
  "language_info": {
   "codemirror_mode": {
    "name": "ipython",
    "version": 3
   },
   "file_extension": ".py",
   "mimetype": "text/x-python",
   "name": "python",
   "nbconvert_exporter": "python",
   "pygments_lexer": "ipython3",
   "version": "3.12.4"
  }
 },
 "nbformat": 4,
 "nbformat_minor": 5
}
