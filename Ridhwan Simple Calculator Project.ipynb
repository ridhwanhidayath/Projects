{
 "cells": [
  {
   "cell_type": "code",
   "execution_count": null,
   "id": "c763246b-5be0-440f-88fb-88548c02bcb3",
   "metadata": {},
   "outputs": [],
   "source": [
    "import tkinter as tk"
   ]
  },
  {
   "cell_type": "code",
   "execution_count": null,
   "id": "0ed40cea-cf35-4025-9fbc-3a645de3cc4b",
   "metadata": {},
   "outputs": [],
   "source": [
    "def click(event):\n",
    "    current = display.get()\n",
    "\n",
    "    text = event.widget.cget('text')\n",
    "\n",
    "    if text == \"=\":\n",
    "        result = eval(current)\n",
    "        display.delete(0, tk.END)\n",
    "        display.insert(tk.END, result)\n",
    "    elif text == \"AC\":\n",
    "        display.delete(0, tk.END)\n",
    "    else:\n",
    "        display.insert(tk.END, text)  \n",
    "    "
   ]
  },
  {
   "cell_type": "code",
   "execution_count": null,
   "id": "349d5327-b40f-414e-b861-60423b720519",
   "metadata": {},
   "outputs": [],
   "source": [
    "window = tk.Tk()\n",
    "window.title (\"Calculator\")\n",
    "\n",
    "display = tk.Entry(window,font=(\"Arial\",30), justify = \"right\")\n",
    "display.pack(fill=tk.X, padx =15, pady = 15, ipady = 15)\n",
    "\n",
    "btn_frame = tk.Frame(window)\n",
    "btn_frame.pack()\n",
    "\n",
    "button_labels = [\n",
    "    \"(\",\")\",\"%\",\"AC\",\n",
    "    \"7\",\"8\",\"9\",\"/\",\n",
    "    \"4\",\"5\",\"6\",\"*\",\n",
    "    \"1\",\"2\",\"3\",\"-\",\n",
    "    \"0\",\".\",\"=\",\"+\"\n",
    "]\n",
    "\n",
    "\n",
    "i = 0\n",
    "for label in button_labels:\n",
    "    button = tk.Button(btn_frame, text = label, font =(\"Arial\",30),padx =15, pady = 15)\n",
    "    button.grid(row = i//4, column = i % 4, padx = 15, pady = 15 )\n",
    "    button.bind(\"<Button-1>\", click)\n",
    "    i +=1\n",
    "\n",
    "\n",
    "window.mainloop()"
   ]
  },
  {
   "cell_type": "code",
   "execution_count": null,
   "id": "968cdf6f-3332-41d9-8a1f-e5ba908cb9d3",
   "metadata": {},
   "outputs": [],
   "source": []
  }
 ],
 "metadata": {
  "kernelspec": {
   "display_name": "Python 3 (ipykernel)",
   "language": "python",
   "name": "python3"
  },
  "language_info": {
   "codemirror_mode": {
    "name": "ipython",
    "version": 3
   },
   "file_extension": ".py",
   "mimetype": "text/x-python",
   "name": "python",
   "nbconvert_exporter": "python",
   "pygments_lexer": "ipython3",
   "version": "3.11.7"
  },
  "widgets": {
   "application/vnd.jupyter.widget-state+json": {
    "state": {},
    "version_major": 2,
    "version_minor": 0
   }
  }
 },
 "nbformat": 4,
 "nbformat_minor": 5
}
