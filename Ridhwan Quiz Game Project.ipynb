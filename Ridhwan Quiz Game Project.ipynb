{
 "cells": [
  {
   "cell_type": "code",
   "execution_count": 1,
   "id": "4037c120-ff2e-4e97-aceb-61c5003c249a",
   "metadata": {},
   "outputs": [],
   "source": [
    "import tkinter as tk\n",
    "from tkinter import messagebox"
   ]
  },
  {
   "cell_type": "code",
   "execution_count": 2,
   "id": "15c03f97-3efe-42a3-b4a9-57786a222838",
   "metadata": {},
   "outputs": [],
   "source": [
    "data = [\n",
    "    {\n",
    "     \"question\": \"Which country won the FIFA World Cup in 2018?\",\n",
    "     \"options\":[\"France\",\"Argentina\",\"Brazil\",\"Germany\"],\n",
    "     \"answer\": \"France\"\n",
    "    },\n",
    "    {\n",
    "     \"question\":\"Who won the Ballon d'Or in 2021?\",\n",
    "     \"options\":[\"Cristiano Ronaldo\",\"Messi\",\"Modric\",\"Benzema\"],\n",
    "     \"answer\": \"Messi\"\n",
    "    },\n",
    "    {\n",
    "     \"question\":\"Which football club has won the most UEFA Champions League titles?\",\n",
    "     \"options\":[\"Real Madrid\",\"FC Barcelona\",\"Liverpool\",\"Bayern Munich\"],\n",
    "     \"answer\": \"Real Madrid\"\n",
    "    },\n",
    "    {\n",
    "     \"question\":\"Which player holds the record for the most goals in a single Premier League season?\",\n",
    "     \"options\":[\"Son\",\"Kane\",\"Salah\",\"Rooney\"],\n",
    "     \"answer\": \"Salah\"\n",
    "    },\n",
    "    {\n",
    "     \"question\":\"Which team won the Premier League in the 2020-2021 season?\",\n",
    "     \"options\":[\"Manchester United\",\"Arsenal\",\"Manchester City\",\"Chelsea\"],\n",
    "     \"answer\": \"Manchester City\"\n",
    "    },\n",
    "    {\n",
    "     \"question\":\"In which year was the inaugural FIFA World Cup held?\",\n",
    "     \"options\":[\"1956\",\"1930\",\"1960\",\"1948\"],\n",
    "     \"answer\": \"1930\"\n",
    "    }\n",
    "]"
   ]
  },
  {
   "cell_type": "code",
   "execution_count": 3,
   "id": "1b06e609-be25-44d4-bfcf-c7672f4808ba",
   "metadata": {},
   "outputs": [],
   "source": [
    "def check(selected_option):\n",
    "    global current_question, score\n",
    "    if selected_option == data[current_question][\"answer\"]:\n",
    "        score += 1\n",
    "        \n",
    "    current_question += 1\n",
    "    if current_question < len(data):\n",
    "        update_question()\n",
    "    else:\n",
    "        show_score()\n",
    "        "
   ]
  },
  {
   "cell_type": "code",
   "execution_count": null,
   "id": "306255a1-4b98-49dd-8627-8f963b775ef4",
   "metadata": {},
   "outputs": [],
   "source": [
    "def update_question():\n",
    "    question_label.config(text = data[current_question][\"question\"])\n",
    "    for i, option in enumerate(data[current_question][\"options\"]):\n",
    "        button[i].config(text = option,command = lambda o = option:check(o))"
   ]
  },
  {
   "cell_type": "code",
   "execution_count": 4,
   "id": "36e7ce22-29fb-42e6-89bb-c546380378f0",
   "metadata": {},
   "outputs": [],
   "source": [
    "def show_score():\n",
    "    messagebox.showinfo(\"Quiz Completed\",f\"You scored {score} out of {len(data)}\")\n",
    "    root.quit"
   ]
  },
  {
   "cell_type": "code",
   "execution_count": 13,
   "id": "26115bf2-5709-4758-8344-731b17ebe6be",
   "metadata": {},
   "outputs": [
    {
     "ename": "NameError",
     "evalue": "name 'update_question' is not defined",
     "output_type": "error",
     "traceback": [
      "\u001b[1;31m---------------------------------------------------------------------------\u001b[0m",
      "\u001b[1;31mNameError\u001b[0m                                 Traceback (most recent call last)",
      "Cell \u001b[1;32mIn[13], line 16\u001b[0m\n\u001b[0;32m     13\u001b[0m     btn\u001b[38;5;241m.\u001b[39mpack(pady \u001b[38;5;241m=\u001b[39m \u001b[38;5;241m5\u001b[39m, fill\u001b[38;5;241m=\u001b[39m tk\u001b[38;5;241m.\u001b[39mX)\n\u001b[0;32m     14\u001b[0m     button\u001b[38;5;241m.\u001b[39mappend(btn)\n\u001b[1;32m---> 16\u001b[0m update_question()\n\u001b[0;32m     18\u001b[0m root\u001b[38;5;241m.\u001b[39mmainloop()\n",
      "\u001b[1;31mNameError\u001b[0m: name 'update_question' is not defined"
     ]
    }
   ],
   "source": [
    "root = tk.Tk()\n",
    "root.title(\"Quiz\")\n",
    "\n",
    "current_question = 0\n",
    "score = 0\n",
    "\n",
    "question_label = tk.Label(root, text = data[current_question][\"question\"],font =(\"Arial\", 15))\n",
    "question_label.pack(pady =20)\n",
    "\n",
    "button = []\n",
    "for i in range(4):\n",
    "    btn = tk.Button(root,text =\"\",font =(\"Arial\", 14))\n",
    "    btn.pack(pady = 5, fill= tk.X)\n",
    "    button.append(btn)\n",
    "\n",
    "update_question()\n",
    "\n",
    "root.mainloop()"
   ]
  },
  {
   "cell_type": "code",
   "execution_count": null,
   "id": "b2e90268-67e3-4efa-8ab5-50d714823fb6",
   "metadata": {},
   "outputs": [],
   "source": []
  }
 ],
 "metadata": {
  "kernelspec": {
   "display_name": "Python 3 (ipykernel)",
   "language": "python",
   "name": "python3"
  },
  "language_info": {
   "codemirror_mode": {
    "name": "ipython",
    "version": 3
   },
   "file_extension": ".py",
   "mimetype": "text/x-python",
   "name": "python",
   "nbconvert_exporter": "python",
   "pygments_lexer": "ipython3",
   "version": "3.11.7"
  },
  "widgets": {
   "application/vnd.jupyter.widget-state+json": {
    "state": {},
    "version_major": 2,
    "version_minor": 0
   }
  }
 },
 "nbformat": 4,
 "nbformat_minor": 5
}
