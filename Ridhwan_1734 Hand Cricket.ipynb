{
 "cells": [
  {
   "cell_type": "code",
   "execution_count": 1,
   "id": "04262b07-8737-4fd0-9fd9-5e8cbe27e7a9",
   "metadata": {},
   "outputs": [],
   "source": [
    "import random\n",
    "\n",
    "def batting():\n",
    "    print(\"You choosed to bat\")\n",
    "    runs = 0\n",
    "    comp_runs = 0\n",
    "\n",
    "    #Player's turn to bat\n",
    "    while True:\n",
    "        choice = int(input(\"BAT : \"))\n",
    "        computer = random.randint(1,6)\n",
    "        if choice < 1  or choice > 6:\n",
    "            print(\"Invalid input, enter a valid number btw 1 and 6\")\n",
    "            continue\n",
    "        print(\"Computer bowled :\" , computer)\n",
    "        runs += choice\n",
    "        print(\"You current score is:\",runs)\n",
    "        if choice == computer:\n",
    "            print(f\"Computer took your wicket, needs {runs+1}, runs\")\n",
    "            break\n",
    "    \n",
    "    #Computer's turn to bat\n",
    "    while True:\n",
    "        choice = int(input(\"BOWL : \"))\n",
    "        computer = random.randint(1,6)\n",
    "        if choice < 1  or choice > 6:\n",
    "            print(\"Invalid input, enter a valid number btw 1 and 6\")\n",
    "            continue\n",
    "        print(\"Computer gets to bat :\" , computer)\n",
    "        comp_runs += computer\n",
    "        print(\"Current score of the computer:\",comp_runs)\n",
    "        if comp_runs > runs:\n",
    "            print(\"Computer won the match\")\n",
    "            break\n",
    "        if choice == computer:\n",
    "            print(f\"Eurekka!! You took the wicket, won the match by {runs - computer_runs} runs\")\n",
    "            break"
   ]
  },
  {
   "cell_type": "code",
   "execution_count": 3,
   "id": "ae6eb114-dcf1-4075-8ec7-9ecb38e40175",
   "metadata": {},
   "outputs": [],
   "source": [
    "def bowling():\n",
    "    print(\"You choosed to bowl\")\n",
    "    runs = 0\n",
    "    comp_runs = 0\n",
    "\n",
    "    #Computer's turn to bat\n",
    "    while True:\n",
    "        choice = int(input(\"BOWL : \"))\n",
    "        computer = random.randint(1,6)\n",
    "        if choice < 1  or choice > 6:\n",
    "            print(\"Invalid input, enter a valid number btw 1 and 6\")\n",
    "            continue\n",
    "        print(\"Computer gets to bat :\" , computer)\n",
    "        comp_runs += computer\n",
    "        print(\"The current score of the computer :\",comp_runs)\n",
    "        if choice == computer:\n",
    "            print(f\"Eurekka!! You took the wicket, needs {comp_runs + 1} runs to win\")\n",
    "            break\n",
    "    \n",
    "    #Player's turn to bat\n",
    "    while True:\n",
    "        choice = int(input(\"BAT : \"))\n",
    "        computer = random.randint(1,6)\n",
    "        if choice < 1  or choice > 6:\n",
    "            print(\"Invalid input, enter a valid number btw 1 and 6\")\n",
    "            continue\n",
    "        print(\"Computer bowled :\" , computer)\n",
    "        runs += choice\n",
    "        print(\"You scored :\", runs)\n",
    "        if runs > comp_runs:\n",
    "            print(\"You won the match\")\n",
    "            break\n",
    "        if choice == computer:\n",
    "            print(f\"Oopss!! Computer took your wicket, won the match by {comp_runs - runs}, runs\")\n",
    "            break"
   ]
  },
  {
   "cell_type": "code",
   "execution_count": 5,
   "id": "844d9529-09ce-4c05-8228-3482c1c8a3aa",
   "metadata": {},
   "outputs": [
    {
     "name": "stdout",
     "output_type": "stream",
     "text": [
      "Welcome to the game!!!!\n"
     ]
    },
    {
     "name": "stdin",
     "output_type": "stream",
     "text": [
      "Enter your choice: , ODD or EVEN - even\n",
      "Enter any number btw 1 and 6: 2\n"
     ]
    },
    {
     "name": "stdout",
     "output_type": "stream",
     "text": [
      "Computer' s choice is:  3\n"
     ]
    },
    {
     "name": "stdin",
     "output_type": "stream",
     "text": [
      "Would you ike to play again, (yes / no) yes\n",
      "Enter your choice: , ODD or EVEN - even\n",
      "Enter any number btw 1 and 6: 5\n"
     ]
    },
    {
     "name": "stdout",
     "output_type": "stream",
     "text": [
      "Computer' s choice is:  6\n"
     ]
    },
    {
     "name": "stdin",
     "output_type": "stream",
     "text": [
      "Would you ike to play again, (yes / no) no\n"
     ]
    },
    {
     "name": "stdout",
     "output_type": "stream",
     "text": [
      "Thankyouu for playing\n"
     ]
    }
   ],
   "source": [
    "def play_game():\n",
    "    print(\"Welcome to the game!!!!\")\n",
    "    while True:\n",
    "        toss = input(\"Enter your choice: , ODD or EVEN -\")\n",
    "        choice = int(input(\"Enter any number btw 1 and 6:\"))\n",
    "        if choice > 6 or choice < 1:\n",
    "            print(\"Invalid input, enter a number btw 1 and 6\")\n",
    "            break\n",
    "        computer = random.randint(1,6)\n",
    "        print(\"Computer' s choice is: \", computer)\n",
    "        if toss.upper() == \"EVEN\":\n",
    "            if ((choice + computer)%2) == 0:\n",
    "                print(\"You won the toss,make a choice BAT or BOWL\")\n",
    "                toss_input = input(\"You won the toss!! BAT or BOWL? \").upper()\n",
    "                if toss_input == \"BAT\":\n",
    "                    batting()\n",
    "                elif toss_input == \"BOWL\":\n",
    "                    bowling()\n",
    "                else:\n",
    "                    print(\"Invalid choice, Computer will bat\")\n",
    "                    bowling()\n",
    "        \n",
    "        elif toss.upper() == \"ODD\":\n",
    "            if((choice + computer) % 2) != 0:\n",
    "                toss_input = input(\" You won the toss!! BAT or BOWL? \").upper()\n",
    "                if toss_input == \"BAT\":\n",
    "                    batting()\n",
    "                elif toss_input == \"BOWL\":\n",
    "                    bowling()\n",
    "                else:\n",
    "                    print(\"Invalid choice, Computer will bat\")\n",
    "                    bowling()\n",
    "        \n",
    "        else:\n",
    "            print(\"Computer won the toss!!\")\n",
    "            comp_toss = random.choice([\"BAT\",\"BOWL\"])\n",
    "            print(\"Computer chose to \", comp_toss)\n",
    "            if comp_toss == \"BAT\":\n",
    "                bowling()\n",
    "            else:\n",
    "                batting()\n",
    "        \n",
    "        play_again = input(\"Would you ike to play again, (yes / no)\").lower()\n",
    "        if play_again != \"yes\":\n",
    "            print(\"Thankyouu for playing\")\n",
    "            break\n",
    "\n",
    "play_game()"
   ]
  },
  {
   "cell_type": "code",
   "execution_count": null,
   "id": "86b911dc-02d4-494f-8251-277b16f75f6a",
   "metadata": {},
   "outputs": [],
   "source": []
  }
 ],
 "metadata": {
  "kernelspec": {
   "display_name": "Python 3 (ipykernel)",
   "language": "python",
   "name": "python3"
  },
  "language_info": {
   "codemirror_mode": {
    "name": "ipython",
    "version": 3
   },
   "file_extension": ".py",
   "mimetype": "text/x-python",
   "name": "python",
   "nbconvert_exporter": "python",
   "pygments_lexer": "ipython3",
   "version": "3.12.4"
  }
 },
 "nbformat": 4,
 "nbformat_minor": 5
}
