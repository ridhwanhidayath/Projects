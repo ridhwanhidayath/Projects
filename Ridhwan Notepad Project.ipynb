{
 "cells": [
  {
   "cell_type": "code",
   "execution_count": 1,
   "id": "7b08d9d1-4faf-4a0a-88c3-65de545befe9",
   "metadata": {},
   "outputs": [],
   "source": [
    "import tkinter as tk\n",
    "from tkinter import *\n",
    "from tkinter import messagebox, filedialog\n",
    "import os"
   ]
  },
  {
   "cell_type": "code",
   "execution_count": 2,
   "id": "015d4b0f-0c53-4353-8a06-fcb1b405baa8",
   "metadata": {},
   "outputs": [],
   "source": [
    "def createWidgets():\n",
    "    global textArea\n",
    "    textArea = Text(root)\n",
    "    textArea.grid(sticky = N+E+S+W)\n",
    "\n",
    "    menuBar = Menu(root)\n",
    "    root.config(menu = menuBar)\n",
    "    fileMenu = Menu(menuBar, tearoff = 0)\n",
    "    fileMenu.add_command(label = \"New\", command = newFile)\n",
    "    fileMenu.add_command(label = \"Open\", command = openFile)\n",
    "    fileMenu.add_command(label = \"Save\", command =saveFile)\n",
    "    fileMenu.add_separator()\n",
    "    fileMenu.add_command(label = \"Exit\", command = exit)\n",
    "    menuBar.add_cascade(label = \"File\", menu = fileMenu)\n",
    "\n",
    "    editMenu = Menu(menuBar, tearoff = 0)\n",
    "    editMenu.add_command(label = \"Cut\", command =cut)\n",
    "    editMenu.add_command(label = \"Copy\", command =copy)\n",
    "    editMenu.add_command(label = \"Paste\", command =paste)\n",
    "    menuBar.add_cascade(label = \"Edit\", menu = editMenu)\n",
    "\n",
    "    helpMenu = Menu(menuBar, tearoff = 0)\n",
    "    helpMenu.add_command(label = \"About Notepad\", command =help)\n",
    "    menuBar.add_cascade(label = \"Help\", menu = helpMenu)\n",
    "\n",
    "    "
   ]
  },
  {
   "cell_type": "code",
   "execution_count": 3,
   "id": "95e3556a-d7aa-49ae-83a8-55d9f30c2266",
   "metadata": {},
   "outputs": [],
   "source": [
    "def newFile():\n",
    "    global textArea\n",
    "    root.title(\"Untitled - Notepad\")\n",
    "    file = None\n",
    "    textArea.delete(1.0,END)"
   ]
  },
  {
   "cell_type": "code",
   "execution_count": 4,
   "id": "7923cfd2-83fd-4285-a818-db7e54c1b19d",
   "metadata": {},
   "outputs": [],
   "source": [
    "def openFile():\n",
    "    global textArea\n",
    "    file = filedialog.askopenfile(defaultextension=\".txt\", filetypes=[(\"All files\", \"*.*\"),(\"Text Documents\",\"*.txt\")])\n",
    "    file = file.name\n",
    "\n",
    "    if file == \"\":\n",
    "        file = None\n",
    "    else:\n",
    "        root.title(os.path.basename(file) + \" - Notepad\")\n",
    "        textArea.delete(1.0, END)\n",
    "        file = open(file,\"rb\")\n",
    "        textArea.insert(1.0, file.read())\n",
    "        file.close()"
   ]
  },
  {
   "cell_type": "code",
   "execution_count": 5,
   "id": "5e5bc4b0-a5d1-4380-9b69-de297265985a",
   "metadata": {},
   "outputs": [],
   "source": [
    "def saveFile():\n",
    "    global textArea, file\n",
    "    if file == None:\n",
    "        file = filedialog.asksaveasfilename(initialfile = \"Untitled.txt\", defaultextension=\".txt\", filetypes=[(\"All files\", \"*.*\"),(\"Text Documents\",\"*.txt\")])\n",
    "\n",
    "        if file == None:\n",
    "            file = None\n",
    "        else:\n",
    "            file = open(file,\"w\")\n",
    "            file.write(textArea.get(1.0, END))\n",
    "            file.close()\n",
    "            file = file.name\n",
    "            root.title(os.path.basename(file) + \"- Notepad\")\n",
    "    else:\n",
    "         file = open(file,\"w\")\n",
    "         file.write(textArea.get(1.0, END))\n",
    "         file.close()\n",
    "        \n",
    "            "
   ]
  },
  {
   "cell_type": "code",
   "execution_count": 6,
   "id": "14f5e096-673b-46f0-9f7b-6f5196c3bd47",
   "metadata": {},
   "outputs": [],
   "source": [
    "def exit():\n",
    "    root.destroy()"
   ]
  },
  {
   "cell_type": "code",
   "execution_count": 7,
   "id": "3786b188-999f-428d-897e-6f74f6a21a6c",
   "metadata": {},
   "outputs": [],
   "source": [
    "def cut():\n",
    "    global textArea\n",
    "    textArea.event_generate(\"<<Cut>>\")\n",
    "\n",
    "def copy():\n",
    "    global textArea\n",
    "    textArea.event_generate(\"<<Copy>>\")\n",
    "    \n",
    "def paste():\n",
    "    global textArea\n",
    "    textArea.event_generate(\"<<Paste>>\")"
   ]
  },
  {
   "cell_type": "code",
   "execution_count": null,
   "id": "0d54b58c-fca7-453a-9df2-736da2f17456",
   "metadata": {},
   "outputs": [],
   "source": []
  }
 ],
 "metadata": {
  "kernelspec": {
   "display_name": "Python 3 (ipykernel)",
   "language": "python",
   "name": "python3"
  },
  "language_info": {
   "codemirror_mode": {
    "name": "ipython",
    "version": 3
   },
   "file_extension": ".py",
   "mimetype": "text/x-python",
   "name": "python",
   "nbconvert_exporter": "python",
   "pygments_lexer": "ipython3",
   "version": "3.11.7"
  },
  "widgets": {
   "application/vnd.jupyter.widget-state+json": {
    "state": {},
    "version_major": 2,
    "version_minor": 0
   }
  }
 },
 "nbformat": 4,
 "nbformat_minor": 5
}
